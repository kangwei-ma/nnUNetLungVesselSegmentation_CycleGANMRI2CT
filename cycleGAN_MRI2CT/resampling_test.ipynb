{
  "nbformat": 4,
  "nbformat_minor": 0,
  "metadata": {
    "colab": {
      "provenance": []
    },
    "kernelspec": {
      "name": "python3",
      "display_name": "Python 3"
    },
    "language_info": {
      "name": "python"
    }
  },
  "cells": [
    {
      "cell_type": "code",
      "execution_count": null,
      "metadata": {
        "colab": {
          "base_uri": "https://localhost:8080/"
        },
        "id": "LH9P9mDGy1xC",
        "outputId": "78f73b2b-ee9f-4a70-d8ec-021d3d5b66a8"
      },
      "outputs": [
        {
          "output_type": "stream",
          "name": "stdout",
          "text": [
            "Drive already mounted at /content/drive; to attempt to forcibly remount, call drive.mount(\"/content/drive\", force_remount=True).\n"
          ]
        }
      ],
      "source": [
        "from google.colab import drive\n",
        "drive.mount('/content/drive')"
      ]
    },
    {
      "cell_type": "code",
      "execution_count": null,
      "metadata": {
        "colab": {
          "base_uri": "https://localhost:8080/"
        },
        "id": "VVMKJ5FPnqxU",
        "outputId": "e8a0dd91-6ab9-4b2e-b7fa-31e384e6ccc0"
      },
      "outputs": [
        {
          "output_type": "stream",
          "name": "stdout",
          "text": [
            "Requirement already satisfied: SimpleITK in /usr/local/lib/python3.10/dist-packages (2.2.1)\n"
          ]
        }
      ],
      "source": [
        "!pip install SimpleITK"
      ]
    },
    {
      "cell_type": "code",
      "source": [
        "resampled_folder_path = '/content/drive/MyDrive/synthrad2023/synthrad_data/Validation_Task/val_resampled'\n",
        "import os\n",
        "os.mkdir(resampled_folder_path)"
      ],
      "metadata": {
        "id": "T734u2AHvwY_"
      },
      "execution_count": null,
      "outputs": []
    },
    {
      "cell_type": "code",
      "source": [
        "from os import listdir"
      ],
      "metadata": {
        "id": "dI3LEA84dTEh"
      },
      "execution_count": null,
      "outputs": []
    },
    {
      "cell_type": "code",
      "execution_count": null,
      "metadata": {
        "id": "14FsXbXNvql2",
        "colab": {
          "base_uri": "https://localhost:8080/"
        },
        "outputId": "cfa2332e-c2d2-4840-b1f8-f4ed5bf5b2b5"
      },
      "outputs": [
        {
          "output_type": "stream",
          "name": "stdout",
          "text": [
            "Resampled Image Size: (478, 297, 147)\n"
          ]
        }
      ],
      "source": [
        "import SimpleITK as sitk\n",
        "\n",
        "#reference_path = '/content/drive/MyDrive/synthrad2023/synthrad_data/Validation_Task/val_task_pelvis/sct_val_nifti/'\n",
        "#original_path ='/content/drive/MyDrive/synthrad2023/synthrad_data/Validation_Task/val_task_pelvis/sct_val_nifti/'\n",
        "\n",
        "# read original(output) NIfTI and the ref input\n",
        "original_img_path = '/content/drive/MyDrive/synthrad2023/synthrad_data/Validation_Task/val_task_pelvis/sct_val_nifti/sct_1PA129.nii.gz'\n",
        "ref_img_path = \"/content/drive/MyDrive/synthrad2023/synthrad_data/Validation_Task/Task1_val/Task1/pelvis/1PA129/mr.nii.gz\"\n",
        "\n",
        "\n",
        "original_image = sitk.ReadImage(original_img_path)\n",
        "reference_image = sitk.ReadImage(ref_img_path)\n",
        "\n",
        "# declare ResampleImageFilter object\n",
        "resampler = sitk.ResampleImageFilter()\n",
        "\n",
        "# use ref info as the resampling arguments\n",
        "resampler.SetReferenceImage(reference_image)\n",
        "resampler.SetInterpolator(sitk.sitkLabelGaussian)\n",
        "\n",
        "# resampling\n",
        "resampled_image = resampler.Execute(original_image)\n",
        "\n",
        "# save\n",
        "#/content/drive/MyDrive/synthrad2023/synthrad_data/Validation_Task/val_resampled_brain\n",
        "sitk.WriteImage(resampled_image, \"/content/drive/MyDrive/synthrad2023/synthrad_data/Validation_Task/val_resampled_pelvis/LableGaussian_sct_1PA129.nii.gz\")\n",
        "\n",
        "resampled_size = resampled_image.GetSize()\n",
        "print(\"Resampled Image Size:\", resampled_size)\n"
      ]
    },
    {
      "cell_type": "code",
      "source": [
        "resampled_size = resampled_image.GetSize()\n",
        "print(\"Resampled Image Size:\", resampled_size)"
      ],
      "metadata": {
        "colab": {
          "base_uri": "https://localhost:8080/"
        },
        "id": "3Nb6LtNR0W7l",
        "outputId": "75a78b53-9f5a-47c8-86ac-13a58f93b933"
      },
      "execution_count": null,
      "outputs": [
        {
          "output_type": "stream",
          "name": "stdout",
          "text": [
            "Resampled Image Size: (505, 299, 145)\n"
          ]
        }
      ]
    },
    {
      "cell_type": "code",
      "source": [],
      "metadata": {
        "id": "RWiex4XE0jMG"
      },
      "execution_count": null,
      "outputs": []
    },
    {
      "cell_type": "markdown",
      "source": [
        "below is the final resamling to iterate the brain and pelvis folder\n",
        "\n",
        "*   to iterate all the files in the output folder\n",
        "*   extract subject id from the orginal file(nifti output)\n",
        "*   use the subject id to find the associated input as ref img\n",
        "\n",
        "\n",
        "\n"
      ],
      "metadata": {
        "id": "FX_0Wt7Ko1k-"
      }
    },
    {
      "cell_type": "code",
      "source": [
        "%cd /content/drive/MyDrive/synthrad2023/synthrad_data/Validation_Task/FolderToZip"
      ],
      "metadata": {
        "colab": {
          "base_uri": "https://localhost:8080/"
        },
        "id": "4Ywd7_Bgv5UX",
        "outputId": "1cd65e63-a3f8-4a80-9297-60de17f2dec6"
      },
      "execution_count": null,
      "outputs": [
        {
          "output_type": "stream",
          "name": "stdout",
          "text": [
            "/content/drive/MyDrive/synthrad2023/synthrad_data/Validation_Task/FolderToZip\n"
          ]
        }
      ]
    },
    {
      "cell_type": "code",
      "source": [
        "import SimpleITK as sitk\n",
        "from os import listdir\n",
        "\n",
        "original_img_path = \"/content/drive/MyDrive/synthrad2023/synthrad_data/Validation_Task/val_task_brain/sct_val_nifti/\" #output\n",
        "ref_img_dir = \"/content/drive/MyDrive/synthrad2023/synthrad_data/Validation_Task/Task1_val/Task1/brain/\"  # Directory containing reference images\n",
        "\n",
        "# List all files in the original image directory\n",
        "original_files = listdir(original_img_path)\n",
        "\n",
        "# Loop through each file in the original_img_path directory\n",
        "for filename in original_files:\n",
        "    if filename.endswith(\".nii.gz\"):  # Make sure the file is a NIfTI image\n",
        "        print('original filename:', filename)\n",
        "        # Construct the path to the corresponding reference image\n",
        "        # Extract the subject ID from the filename\n",
        "        subject_id = filename.split('_')[1].split('.')[0]\n",
        "        print('subject id:', subject_id)\n",
        "        ref_img_path = ref_img_dir + subject_id + \"/mr.nii.gz\"\n",
        "        print('ref img path', ref_img_path)\n",
        "        # Read the reference image\n",
        "        reference_image = sitk.ReadImage(ref_img_path)\n",
        "\n",
        "        # Read the original image\n",
        "        original_image = sitk.ReadImage(original_img_path + filename)\n",
        "\n",
        "        # Create a resampler object\n",
        "        resampler = sitk.ResampleImageFilter()\n",
        "\n",
        "        # Use the reference image's information for resampling\n",
        "        resampler.SetReferenceImage(reference_image)\n",
        "        resampler.SetInterpolator(sitk.sitkLabelGaussian)\n",
        "\n",
        "        # Resample the original image\n",
        "        resampled_image = resampler.Execute(original_image)\n",
        "\n",
        "        # Save the resampled image\n",
        "        output_path = '/content/drive/MyDrive/synthrad2023/synthrad_data/Validation_Task/Folder_LabelGaussian_resampled/' + filename\n",
        "        sitk.WriteImage(resampled_image, output_path)\n",
        "\n",
        "        # Get the size of the resampled image\n",
        "        resampled_size = resampled_image.GetSize()\n",
        "        print(f\"Resampled Image Size for {filename}: {resampled_size}\")\n"
      ],
      "metadata": {
        "colab": {
          "base_uri": "https://localhost:8080/"
        },
        "id": "Kng8I1a3g7Az",
        "outputId": "a3e613a3-7a26-43a0-d94a-5fd9c34a274f"
      },
      "execution_count": null,
      "outputs": [
        {
          "output_type": "stream",
          "name": "stdout",
          "text": [
            "original filename: sct_1BA004.nii.gz\n",
            "subject id: 1BA004\n",
            "ref img path /content/drive/MyDrive/synthrad2023/synthrad_data/Validation_Task/Task1_val/Task1/brain/1BA004/mr.nii.gz\n",
            "Resampled Image Size for sct_1BA004.nii.gz: (220, 251, 189)\n",
            "original filename: sct_1BA034.nii.gz\n",
            "subject id: 1BA034\n",
            "ref img path /content/drive/MyDrive/synthrad2023/synthrad_data/Validation_Task/Task1_val/Task1/brain/1BA034/mr.nii.gz\n",
            "Resampled Image Size for sct_1BA034.nii.gz: (237, 261, 210)\n",
            "original filename: sct_1BA060.nii.gz\n",
            "subject id: 1BA060\n",
            "ref img path /content/drive/MyDrive/synthrad2023/synthrad_data/Validation_Task/Task1_val/Task1/brain/1BA060/mr.nii.gz\n",
            "Resampled Image Size for sct_1BA060.nii.gz: (227, 250, 193)\n",
            "original filename: sct_1BA074.nii.gz\n",
            "subject id: 1BA074\n",
            "ref img path /content/drive/MyDrive/synthrad2023/synthrad_data/Validation_Task/Task1_val/Task1/brain/1BA074/mr.nii.gz\n",
            "Resampled Image Size for sct_1BA074.nii.gz: (211, 254, 187)\n",
            "original filename: sct_1BA136.nii.gz\n",
            "subject id: 1BA136\n",
            "ref img path /content/drive/MyDrive/synthrad2023/synthrad_data/Validation_Task/Task1_val/Task1/brain/1BA136/mr.nii.gz\n",
            "Resampled Image Size for sct_1BA136.nii.gz: (230, 259, 186)\n",
            "original filename: sct_1BA202.nii.gz\n",
            "subject id: 1BA202\n",
            "ref img path /content/drive/MyDrive/synthrad2023/synthrad_data/Validation_Task/Task1_val/Task1/brain/1BA202/mr.nii.gz\n",
            "Resampled Image Size for sct_1BA202.nii.gz: (220, 260, 219)\n",
            "original filename: sct_1BA211.nii.gz\n",
            "subject id: 1BA211\n",
            "ref img path /content/drive/MyDrive/synthrad2023/synthrad_data/Validation_Task/Task1_val/Task1/brain/1BA211/mr.nii.gz\n",
            "Resampled Image Size for sct_1BA211.nii.gz: (199, 249, 204)\n",
            "original filename: sct_1BA261.nii.gz\n",
            "subject id: 1BA261\n",
            "ref img path /content/drive/MyDrive/synthrad2023/synthrad_data/Validation_Task/Task1_val/Task1/brain/1BA261/mr.nii.gz\n",
            "Resampled Image Size for sct_1BA261.nii.gz: (202, 225, 193)\n",
            "original filename: sct_1BA311.nii.gz\n",
            "subject id: 1BA311\n",
            "ref img path /content/drive/MyDrive/synthrad2023/synthrad_data/Validation_Task/Task1_val/Task1/brain/1BA311/mr.nii.gz\n",
            "Resampled Image Size for sct_1BA311.nii.gz: (173, 235, 190)\n",
            "original filename: sct_1BA381.nii.gz\n",
            "subject id: 1BA381\n",
            "ref img path /content/drive/MyDrive/synthrad2023/synthrad_data/Validation_Task/Task1_val/Task1/brain/1BA381/mr.nii.gz\n",
            "Resampled Image Size for sct_1BA381.nii.gz: (195, 218, 206)\n",
            "original filename: sct_1BB013.nii.gz\n",
            "subject id: 1BB013\n",
            "ref img path /content/drive/MyDrive/synthrad2023/synthrad_data/Validation_Task/Task1_val/Task1/brain/1BB013/mr.nii.gz\n",
            "Resampled Image Size for sct_1BB013.nii.gz: (218, 249, 188)\n",
            "original filename: sct_1BB019.nii.gz\n",
            "subject id: 1BB019\n",
            "ref img path /content/drive/MyDrive/synthrad2023/synthrad_data/Validation_Task/Task1_val/Task1/brain/1BB019/mr.nii.gz\n",
            "Resampled Image Size for sct_1BB019.nii.gz: (207, 245, 173)\n",
            "original filename: sct_1BB035.nii.gz\n",
            "subject id: 1BB035\n",
            "ref img path /content/drive/MyDrive/synthrad2023/synthrad_data/Validation_Task/Task1_val/Task1/brain/1BB035/mr.nii.gz\n",
            "Resampled Image Size for sct_1BB035.nii.gz: (217, 235, 198)\n",
            "original filename: sct_1BB037.nii.gz\n",
            "subject id: 1BB037\n",
            "ref img path /content/drive/MyDrive/synthrad2023/synthrad_data/Validation_Task/Task1_val/Task1/brain/1BB037/mr.nii.gz\n",
            "Resampled Image Size for sct_1BB037.nii.gz: (210, 243, 194)\n",
            "original filename: sct_1BB053.nii.gz\n",
            "subject id: 1BB053\n",
            "ref img path /content/drive/MyDrive/synthrad2023/synthrad_data/Validation_Task/Task1_val/Task1/brain/1BB053/mr.nii.gz\n",
            "Resampled Image Size for sct_1BB053.nii.gz: (212, 243, 186)\n",
            "original filename: sct_1BB060.nii.gz\n",
            "subject id: 1BB060\n",
            "ref img path /content/drive/MyDrive/synthrad2023/synthrad_data/Validation_Task/Task1_val/Task1/brain/1BB060/mr.nii.gz\n",
            "Resampled Image Size for sct_1BB060.nii.gz: (208, 231, 190)\n",
            "original filename: sct_1BB084.nii.gz\n",
            "subject id: 1BB084\n",
            "ref img path /content/drive/MyDrive/synthrad2023/synthrad_data/Validation_Task/Task1_val/Task1/brain/1BB084/mr.nii.gz\n",
            "Resampled Image Size for sct_1BB084.nii.gz: (223, 237, 188)\n",
            "original filename: sct_1BB104.nii.gz\n",
            "subject id: 1BB104\n",
            "ref img path /content/drive/MyDrive/synthrad2023/synthrad_data/Validation_Task/Task1_val/Task1/brain/1BB104/mr.nii.gz\n",
            "Resampled Image Size for sct_1BB104.nii.gz: (223, 249, 212)\n",
            "original filename: sct_1BB176.nii.gz\n",
            "subject id: 1BB176\n",
            "ref img path /content/drive/MyDrive/synthrad2023/synthrad_data/Validation_Task/Task1_val/Task1/brain/1BB176/mr.nii.gz\n",
            "Resampled Image Size for sct_1BB176.nii.gz: (202, 237, 240)\n",
            "original filename: sct_1BB199.nii.gz\n",
            "subject id: 1BB199\n",
            "ref img path /content/drive/MyDrive/synthrad2023/synthrad_data/Validation_Task/Task1_val/Task1/brain/1BB199/mr.nii.gz\n",
            "Resampled Image Size for sct_1BB199.nii.gz: (214, 247, 191)\n",
            "original filename: sct_1BC015.nii.gz\n",
            "subject id: 1BC015\n",
            "ref img path /content/drive/MyDrive/synthrad2023/synthrad_data/Validation_Task/Task1_val/Task1/brain/1BC015/mr.nii.gz\n",
            "Resampled Image Size for sct_1BC015.nii.gz: (240, 280, 217)\n",
            "original filename: sct_1BC026.nii.gz\n",
            "subject id: 1BC026\n",
            "ref img path /content/drive/MyDrive/synthrad2023/synthrad_data/Validation_Task/Task1_val/Task1/brain/1BC026/mr.nii.gz\n",
            "Resampled Image Size for sct_1BC026.nii.gz: (235, 270, 177)\n",
            "original filename: sct_1BC030.nii.gz\n",
            "subject id: 1BC030\n",
            "ref img path /content/drive/MyDrive/synthrad2023/synthrad_data/Validation_Task/Task1_val/Task1/brain/1BC030/mr.nii.gz\n",
            "Resampled Image Size for sct_1BC030.nii.gz: (242, 270, 174)\n",
            "original filename: sct_1BC042.nii.gz\n",
            "subject id: 1BC042\n",
            "ref img path /content/drive/MyDrive/synthrad2023/synthrad_data/Validation_Task/Task1_val/Task1/brain/1BC042/mr.nii.gz\n",
            "Resampled Image Size for sct_1BC042.nii.gz: (238, 275, 174)\n",
            "original filename: sct_1BC044.nii.gz\n",
            "subject id: 1BC044\n",
            "ref img path /content/drive/MyDrive/synthrad2023/synthrad_data/Validation_Task/Task1_val/Task1/brain/1BC044/mr.nii.gz\n",
            "Resampled Image Size for sct_1BC044.nii.gz: (220, 269, 175)\n",
            "original filename: sct_1BC059.nii.gz\n",
            "subject id: 1BC059\n",
            "ref img path /content/drive/MyDrive/synthrad2023/synthrad_data/Validation_Task/Task1_val/Task1/brain/1BC059/mr.nii.gz\n",
            "Resampled Image Size for sct_1BC059.nii.gz: (246, 268, 174)\n",
            "original filename: sct_1BC069.nii.gz\n",
            "subject id: 1BC069\n",
            "ref img path /content/drive/MyDrive/synthrad2023/synthrad_data/Validation_Task/Task1_val/Task1/brain/1BC069/mr.nii.gz\n",
            "Resampled Image Size for sct_1BC069.nii.gz: (221, 267, 177)\n",
            "original filename: sct_1BC079.nii.gz\n",
            "subject id: 1BC079\n",
            "ref img path /content/drive/MyDrive/synthrad2023/synthrad_data/Validation_Task/Task1_val/Task1/brain/1BC079/mr.nii.gz\n",
            "Resampled Image Size for sct_1BC079.nii.gz: (223, 270, 179)\n",
            "original filename: sct_1BC092.nii.gz\n",
            "subject id: 1BC092\n",
            "ref img path /content/drive/MyDrive/synthrad2023/synthrad_data/Validation_Task/Task1_val/Task1/brain/1BC092/mr.nii.gz\n",
            "Resampled Image Size for sct_1BC092.nii.gz: (221, 267, 174)\n",
            "original filename: sct_1BC091.nii.gz\n",
            "subject id: 1BC091\n",
            "ref img path /content/drive/MyDrive/synthrad2023/synthrad_data/Validation_Task/Task1_val/Task1/brain/1BC091/mr.nii.gz\n",
            "Resampled Image Size for sct_1BC091.nii.gz: (222, 268, 183)\n"
          ]
        }
      ]
    }
  ]
}